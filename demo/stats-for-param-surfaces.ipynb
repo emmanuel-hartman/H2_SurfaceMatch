{
 "cells": [
  {
   "cell_type": "code",
   "execution_count": 1,
   "id": "0d562cbc",
   "metadata": {},
   "outputs": [
    {
     "name": "stderr",
     "output_type": "stream",
     "text": [
      "/home/emanuel/anaconda3/envs/varidist/lib/python3.7/site-packages/pykeops/torch/kernel_product/__init__.py:6: DeprecationWarning: [pyKeOps]: the kernel_product syntax is deprecated. Please consider using the LazyTensor helper instead.\n",
      "  DeprecationWarning,\n"
     ]
    }
   ],
   "source": [
    "import sys\n",
    "sys.path.append('..')\n",
    "import SRNF_match\n",
    "import H2_stats as stats\n",
    "import H2_ivp as gi\n",
    "import utils.input_output as io"
   ]
  },
  {
   "cell_type": "code",
   "execution_count": 2,
   "id": "1af15924",
   "metadata": {},
   "outputs": [
    {
     "name": "stderr",
     "output_type": "stream",
     "text": [
      "/home/emanuel/anaconda3/envs/varidist/lib/python3.7/site-packages/ipykernel/ipkernel.py:287: DeprecationWarning: `should_run_async` will not call `transform_cell` automatically in the future. Please pass the result to `transformed_cell` argument and any exception that happen during thetransform in `preprocessing_exc_tuple` in IPython 7.17 and above.\n",
      "  and should_run_async(code)\n"
     ]
    }
   ],
   "source": [
    "[V0,F0,Fun0] = io.loadData(\"TestData/deformed_sphere/template.ply\") \n",
    "V0=V0/10\n",
    "\n",
    "samples=[]\n",
    "import os\n",
    "for file in os.listdir(\"TestData/deformed_sphere/\"):\n",
    "    if file.endswith(\".ply\"):\n",
    "        [V,F,Fun] = io.loadData('TestData/deformed_sphere/'+file) \n",
    "        V=V/10\n",
    "        samples+=[V]\n",
    "\n",
    "samples=np.array(samples)"
   ]
  },
  {
   "cell_type": "code",
   "execution_count": 3,
   "id": "221afa44",
   "metadata": {},
   "outputs": [],
   "source": [
    "a0=10\n",
    "a1=1\n",
    "b1=1\n",
    "c1=10\n",
    "d1=1\n",
    "a2=1\n",
    "param1 = {'max_iter': 200,'time_steps': 3}\n",
    "param2 = {'max_iter': 200,'time_steps': 4}\n",
    "param3 = {'max_iter': 200,'time_steps': 5}\n",
    "\n",
    "paramlist=[param1,param2,param3]"
   ]
  },
  {
   "cell_type": "code",
   "execution_count": 4,
   "id": "e850874f",
   "metadata": {},
   "outputs": [
    {
     "name": "stdout",
     "output_type": "stream",
     "text": [
      "(25, 2, 422, 3)\n",
      "(25, 3, 422, 3)\n",
      "(25, 4, 422, 3)\n",
      "(25, 5, 422, 3)\n"
     ]
    }
   ],
   "source": [
    "geods,mu,F0= stats.H2KMean(samples,F0,a0,a1,b1,c1,d1,a2,paramlist)"
   ]
  },
  {
   "cell_type": "code",
   "execution_count": 6,
   "id": "e6a8bf19",
   "metadata": {},
   "outputs": [
    {
     "name": "stdout",
     "output_type": "stream",
     "text": [
      "Computing Tangent Vector in the direction of sample 1/25\n",
      "(3, 422, 3)\n",
      "(4, 422, 3)\n",
      "(5, 422, 3)\n",
      "Computing Tangent Vector in the direction of sample 2/25\n",
      "(3, 422, 3)\n",
      "(4, 422, 3)\n",
      "(5, 422, 3)\n",
      "Computing Tangent Vector in the direction of sample 3/25\n",
      "(3, 422, 3)\n",
      "(4, 422, 3)\n",
      "(5, 422, 3)\n",
      "Computing Tangent Vector in the direction of sample 4/25\n",
      "(3, 422, 3)\n",
      "(4, 422, 3)\n",
      "(5, 422, 3)\n",
      "Computing Tangent Vector in the direction of sample 5/25\n",
      "(3, 422, 3)\n",
      "(4, 422, 3)\n",
      "(5, 422, 3)\n",
      "Computing Tangent Vector in the direction of sample 6/25\n",
      "(3, 422, 3)\n",
      "(4, 422, 3)\n",
      "(5, 422, 3)\n",
      "Computing Tangent Vector in the direction of sample 7/25\n",
      "(3, 422, 3)\n",
      "(4, 422, 3)\n",
      "(5, 422, 3)\n",
      "Computing Tangent Vector in the direction of sample 8/25\n",
      "(3, 422, 3)\n",
      "(4, 422, 3)\n",
      "(5, 422, 3)\n",
      "Computing Tangent Vector in the direction of sample 9/25\n",
      "(3, 422, 3)\n",
      "(4, 422, 3)\n",
      "(5, 422, 3)\n",
      "Computing Tangent Vector in the direction of sample 10/25\n",
      "(3, 422, 3)\n",
      "(4, 422, 3)\n",
      "(5, 422, 3)\n",
      "Computing Tangent Vector in the direction of sample 11/25\n",
      "(3, 422, 3)\n",
      "(4, 422, 3)\n",
      "(5, 422, 3)\n",
      "Computing Tangent Vector in the direction of sample 12/25\n",
      "(3, 422, 3)\n",
      "(4, 422, 3)\n",
      "(5, 422, 3)\n",
      "Computing Tangent Vector in the direction of sample 13/25\n",
      "(3, 422, 3)\n",
      "(4, 422, 3)\n",
      "(5, 422, 3)\n",
      "Computing Tangent Vector in the direction of sample 14/25\n",
      "(3, 422, 3)\n",
      "(4, 422, 3)\n",
      "(5, 422, 3)\n",
      "Computing Tangent Vector in the direction of sample 15/25\n",
      "(3, 422, 3)\n",
      "(4, 422, 3)\n",
      "(5, 422, 3)\n",
      "Computing Tangent Vector in the direction of sample 16/25\n",
      "(3, 422, 3)\n",
      "(4, 422, 3)\n",
      "(5, 422, 3)\n",
      "Computing Tangent Vector in the direction of sample 17/25\n",
      "(3, 422, 3)\n",
      "(4, 422, 3)\n",
      "(5, 422, 3)\n",
      "Computing Tangent Vector in the direction of sample 18/25\n",
      "(3, 422, 3)\n",
      "(4, 422, 3)\n",
      "(5, 422, 3)\n",
      "Computing Tangent Vector in the direction of sample 19/25\n",
      "(3, 422, 3)\n",
      "(4, 422, 3)\n",
      "(5, 422, 3)\n",
      "Computing Tangent Vector in the direction of sample 20/25\n",
      "(3, 422, 3)\n",
      "(4, 422, 3)\n",
      "(5, 422, 3)\n",
      "Computing Tangent Vector in the direction of sample 21/25\n",
      "(3, 422, 3)\n",
      "(4, 422, 3)\n",
      "(5, 422, 3)\n",
      "Computing Tangent Vector in the direction of sample 22/25\n",
      "(3, 422, 3)\n",
      "(4, 422, 3)\n",
      "(5, 422, 3)\n",
      "Computing Tangent Vector in the direction of sample 23/25\n",
      "(3, 422, 3)\n",
      "(4, 422, 3)\n",
      "(5, 422, 3)\n",
      "Computing Tangent Vector in the direction of sample 24/25\n",
      "(3, 422, 3)\n",
      "(4, 422, 3)\n",
      "(5, 422, 3)\n",
      "Computing Tangent Vector in the direction of sample 25/25\n",
      "(3, 422, 3)\n",
      "(4, 422, 3)\n",
      "(5, 422, 3)\n"
     ]
    }
   ],
   "source": [
    "eva,eve,PCs= stats.H2PCA(V0,samples,F0,a0,a1,b1,c1,d1,a2,paramlist,components=3)"
   ]
  },
  {
   "cell_type": "code",
   "execution_count": 7,
   "id": "a5aae20d",
   "metadata": {},
   "outputs": [],
   "source": [
    "for i in range(0,3):\n",
    "    io.plotGeodesic(PCs[i],F0, file_name=\"results/pc_{}\".format(i),stepsize=.5,axis=[0,0,1],angle=-3*np.pi/4)"
   ]
  }
 ],
 "metadata": {
  "kernelspec": {
   "display_name": "Python 3",
   "language": "python",
   "name": "python3"
  },
  "language_info": {
   "codemirror_mode": {
    "name": "ipython",
    "version": 3
   },
   "file_extension": ".py",
   "mimetype": "text/x-python",
   "name": "python",
   "nbconvert_exporter": "python",
   "pygments_lexer": "ipython3",
   "version": "3.7.10"
  }
 },
 "nbformat": 4,
 "nbformat_minor": 5
}
