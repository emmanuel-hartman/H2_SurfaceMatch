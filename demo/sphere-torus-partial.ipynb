{
 "cells": [
  {
   "cell_type": "code",
   "execution_count": 1,
   "id": "0d562cbc",
   "metadata": {},
   "outputs": [],
   "source": [
    "import sys\n",
    "sys.path.append('..')\n",
    "import SRNF_match\n",
    "import H2_partial_match as gm\n",
    "import utils.input_output as input_output\n",
    "import numpy as np\n",
    "import plotly.graph_objects as go"
   ]
  },
  {
   "cell_type": "code",
   "execution_count": 2,
   "id": "a17f0c3c",
   "metadata": {},
   "outputs": [
    {
     "name": "stdout",
     "output_type": "stream",
     "text": [
      "(3360, 3)\n"
     ]
    }
   ],
   "source": [
    "N=2 \n",
    "[VS,FS,FunS] = input_output.loadData(\"TestData/genus/sphere.ply\")\n",
    "VS=VS/100\n",
    "\n",
    "[VS,FS]= input_output.subdivide_mesh(VS,FS,order=1) \n",
    "print(FS.shape)  \n",
    "FunS=np.zeros((int(np.size(VS)/3),)) \n",
    "sources = [[VS,FS]]\n"
   ]
  },
  {
   "cell_type": "code",
   "execution_count": 3,
   "id": "07d14867",
   "metadata": {},
   "outputs": [
    {
     "name": "stdout",
     "output_type": "stream",
     "text": [
      "(18432, 3)\n"
     ]
    }
   ],
   "source": [
    "[VT,FT,FunT] = input_output.loadData(\"TestData/genus/torus.ply\")\n",
    "VT=VT\n",
    "print(FT.shape)\n",
    "FunT=np.zeros((int(np.size(VT)/3),)) \n",
    "targets= [[VT,FT]]"
   ]
  },
  {
   "cell_type": "code",
   "execution_count": 4,
   "id": "742ff365",
   "metadata": {},
   "outputs": [],
   "source": [
    "source=sources[0] \n",
    "target=targets[0]"
   ]
  },
  {
   "cell_type": "code",
   "execution_count": 5,
   "id": "ee78dfc1",
   "metadata": {},
   "outputs": [],
   "source": [
    "\n",
    "param1 = {'weight_coef_dist_S': 10**1, 'weight_coef_dist_T': 10**1,'sig_geom':.5,\\\n",
    "          'max_iter': 1000,'time_steps': 2, 'tri_unsample': True, 'index':0, 'partial':False}\n",
    "\n",
    "param2 = {'weight_coef_dist_S': 10**2, 'weight_coef_dist_T': 10**2,'sig_geom':.4,\\\n",
    "          'max_iter': 1000, 'time_steps': 2, 'tri_unsample': False, 'index':1, 'partial':True}\n",
    "\n",
    "param3 = {'weight_coef_dist_S': 10**3, 'weight_coef_dist_T': 10**3,'sig_geom':.3,\\\n",
    "          'max_iter': 200,'time_steps': 2, 'tri_unsample': True, 'index':1, 'partial':True}\n",
    "\n",
    "param4 = {'weight_coef_dist_S': 10**4, 'weight_coef_dist_T': 10**4,'sig_geom':.2,\\\n",
    "          'max_iter': 200, 'time_steps': 3, 'tri_unsample': False, 'index':2, 'partial':True}\n",
    "\n",
    "param5 = {'weight_coef_dist_S': 10**6, 'weight_coef_dist_T': 10**6,'sig_geom':.1,\\\n",
    "          'max_iter': 2000,'time_steps': 4, 'tri_unsample': False, 'index':2, 'partial':True, 'weight_only': True }\n",
    "a0=0\n",
    "a1=0\n",
    "b1=1\n",
    "c1=10\n",
    "d1=0\n",
    "a2=0\n",
    "paramlist=[param1,param2,param3,param4,param5]"
   ]
  },
  {
   "cell_type": "code",
   "execution_count": 6,
   "id": "2137961c",
   "metadata": {
    "scrolled": true
   },
   "outputs": [
    {
     "name": "stdout",
     "output_type": "stream",
     "text": [
      "(3360, 3)\n",
      "(840, 3)\n",
      "(210, 3)\n",
      "(210, 3)\n",
      "(840, 3)\n",
      "(840, 3)\n",
      "(3360, 3)\n",
      "(3360, 3)\n",
      "(3360, 3)\n"
     ]
    }
   ],
   "source": [
    "geod,Rho0,F0=gm.H2MultiRes(source,target,a0,a1,b1,c1,d1,a2,2,paramlist)"
   ]
  },
  {
   "cell_type": "code",
   "execution_count": 7,
   "id": "635896e6",
   "metadata": {},
   "outputs": [
    {
     "name": "stdout",
     "output_type": "stream",
     "text": [
      "-0.2028422791590474\n",
      "(4, 1682, 3)\n"
     ]
    }
   ],
   "source": [
    "print(Rho0.min())\n",
    "print(geod.shape)"
   ]
  },
  {
   "cell_type": "code",
   "execution_count": 9,
   "id": "b812cf49",
   "metadata": {},
   "outputs": [],
   "source": [
    "input_output.plotPartialGeodesic(geod,F0,source=source,target=target,Rho=Rho0, stepsize=4, axis=[0,0,1],angle=-1*np.pi/2)"
   ]
  },
  {
   "cell_type": "code",
   "execution_count": null,
   "id": "420cfa46",
   "metadata": {},
   "outputs": [],
   "source": []
  }
 ],
 "metadata": {
  "kernelspec": {
   "display_name": "Python 3",
   "language": "python",
   "name": "python3"
  },
  "language_info": {
   "codemirror_mode": {
    "name": "ipython",
    "version": 3
   },
   "file_extension": ".py",
   "mimetype": "text/x-python",
   "name": "python",
   "nbconvert_exporter": "python",
   "pygments_lexer": "ipython3",
   "version": "3.7.10"
  }
 },
 "nbformat": 4,
 "nbformat_minor": 5
}
