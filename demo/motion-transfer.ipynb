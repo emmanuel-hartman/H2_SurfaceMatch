{
 "cells": [
  {
   "cell_type": "code",
   "execution_count": 1,
   "id": "0d562cbc",
   "metadata": {},
   "outputs": [
    {
     "name": "stderr",
     "output_type": "stream",
     "text": [
      "/home/emanuel/anaconda3/envs/varidist/lib/python3.7/site-packages/pykeops/torch/kernel_product/__init__.py:6: DeprecationWarning: [pyKeOps]: the kernel_product syntax is deprecated. Please consider using the LazyTensor helper instead.\n",
      "  DeprecationWarning,\n"
     ]
    }
   ],
   "source": [
    "import sys\n",
    "sys.path.append('..')\n",
    "import H2_deformation_transfer as gm\n",
    "import utils.input_output as io"
   ]
  },
  {
   "cell_type": "code",
   "execution_count": 2,
   "id": "1af15924",
   "metadata": {},
   "outputs": [
    {
     "name": "stdout",
     "output_type": "stream",
     "text": [
      "(14410, 3)\n",
      "(14410, 3)\n",
      "(14410, 3)\n"
     ]
    },
    {
     "name": "stderr",
     "output_type": "stream",
     "text": [
      "/home/emanuel/anaconda3/envs/varidist/lib/python3.7/site-packages/ipykernel/ipkernel.py:287: DeprecationWarning: `should_run_async` will not call `transform_cell` automatically in the future. Please pass the result to `transformed_cell` argument and any exception that happen during thetransform in `preprocessing_exc_tuple` in IPython 7.17 and above.\n",
      "  and should_run_async(code)\n"
     ]
    }
   ],
   "source": [
    "[VS,FS,FunS] = io.loadData(\"TestData/cats_lion/catA.ply\") \n",
    "VS=3*VS\n",
    "source = [VS,FS]\n",
    "print(FS.shape)\n",
    "\n",
    "[VT,FT,FunT] = io.loadData(\"TestData/cats_lion/catD.ply\")  \n",
    "VT=3*VT\n",
    "target= [VT,FT]\n",
    "print(FT.shape)\n",
    "\n",
    "[VNS,FNS,Fun] = io.loadData(\"TestData/cats_lion/lionA.ply\") \n",
    "VNS=VNS/200\n",
    "new_source= [VNS,FNS]\n",
    "print(FNS.shape)"
   ]
  },
  {
   "cell_type": "code",
   "execution_count": 3,
   "id": "ee78dfc1",
   "metadata": {},
   "outputs": [],
   "source": [
    "a0=.01\n",
    "a1=1\n",
    "b1=1\n",
    "c1=10\n",
    "d1=1\n",
    "a2=1\n",
    "param1 = {'max_iter': 200,'time_steps': 3}\n",
    "param2 = {'max_iter': 200,'time_steps': 6}\n",
    "param3 = {'max_iter': 200,'time_steps': 10}\n",
    "\n",
    "geod1_params =[param1,param2,param3]\n",
    "\n",
    "param1 = {'max_iter': 200,'time_steps': 3}\n",
    "param2 = {'max_iter': 200,'time_steps': 4}\n",
    "param3 = {'max_iter': 200,'time_steps': 5}\n",
    "geod2_params =[param1,param2,param3]"
   ]
  },
  {
   "cell_type": "code",
   "execution_count": 4,
   "id": "9d893fa5",
   "metadata": {},
   "outputs": [
    {
     "name": "stdout",
     "output_type": "stream",
     "text": [
      "Calculating Deformation Geodesic\n",
      "(3, 7207, 3)\n",
      "(6, 7207, 3)\n",
      "(10, 7207, 3)\n",
      "Calculating Transfer Geodesic\n",
      "(3, 7207, 3)\n",
      "(4, 7207, 3)\n",
      "(5, 7207, 3)\n",
      "Performing Parallel Transport Using Schild's Ladder\n",
      "Calculating Transfered Deformation\n"
     ]
    }
   ],
   "source": [
    "geod1,geod2,Ngeod1,F= gm.H2ParamDeformationTransfer(VS, VT, VNS, FS,a0,a1,b1,c1,d1,a2, geod1_params, geod2_params)"
   ]
  },
  {
   "cell_type": "code",
   "execution_count": 5,
   "id": "cbf3c379",
   "metadata": {},
   "outputs": [],
   "source": [
    "io.plotGeodesic(geod1,F, stepsize=2, file_name='results/param_motion_bvp',axis=[0,0,1],angle=-1*np.pi/2)\n",
    "io.plotGeodesic(geod2,F, stepsize=2, file_name='results/param_transfer_bvp' ,axis=[0,1,0],angle=-1*np.pi/2)\n",
    "io.plotGeodesic(Ngeod1,F, stepsize=2, file_name='results/param_motion_transfer_ivp',axis=[0,0,1],angle=-1*np.pi/2)"
   ]
  }
 ],
 "metadata": {
  "kernelspec": {
   "display_name": "Python 3",
   "language": "python",
   "name": "python3"
  },
  "language_info": {
   "codemirror_mode": {
    "name": "ipython",
    "version": 3
   },
   "file_extension": ".py",
   "mimetype": "text/x-python",
   "name": "python",
   "nbconvert_exporter": "python",
   "pygments_lexer": "ipython3",
   "version": "3.7.10"
  }
 },
 "nbformat": 4,
 "nbformat_minor": 5
}
