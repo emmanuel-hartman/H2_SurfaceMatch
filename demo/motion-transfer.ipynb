{
 "cells": [
  {
   "cell_type": "code",
   "execution_count": 1,
   "id": "0d562cbc",
   "metadata": {},
   "outputs": [],
   "source": [
    "import sys\n",
    "sys.path.append('..')\n",
    "import H2_deformation_transfer as gm\n",
    "import utils.input_output as io\n",
    "import numpy as np\n",
    "import plotly.graph_objects as go"
   ]
  },
  {
   "cell_type": "code",
   "execution_count": 2,
   "id": "1af15924",
   "metadata": {},
   "outputs": [
    {
     "name": "stdout",
     "output_type": "stream",
     "text": [
      "(14410, 3)\n",
      "(14410, 3)\n",
      "(14410, 3)\n"
     ]
    }
   ],
   "source": [
    "[VS,FS,FunS] = io.loadData(\"TestData/cats_lion/catA.ply\") \n",
    "VS=3*VS\n",
    "source = [VS,FS]\n",
    "print(FS.shape)\n",
    "\n",
    "[VT,FT,FunT] = io.loadData(\"TestData/cats_lion/catB.ply\")  \n",
    "VT=3*VT\n",
    "target= [VT,FT]\n",
    "print(FT.shape)\n",
    "\n",
    "[VNS,FNS,Fun] = io.loadData(\"TestData/cats_lion/lionA.ply\") \n",
    "VNS=VNS/200\n",
    "new_source= [VNS,FNS]\n",
    "print(FNS.shape)"
   ]
  },
  {
   "cell_type": "code",
   "execution_count": 3,
   "id": "ee78dfc1",
   "metadata": {},
   "outputs": [],
   "source": [
    "a0=.01\n",
    "a1=1\n",
    "b1=1\n",
    "c1=10\n",
    "d1=1\n",
    "a2=1\n",
    "param1 = {'max_iter': 200,'time_steps': 3}\n",
    "param2 = {'max_iter': 200,'time_steps': 6}\n",
    "param3 = {'max_iter': 200,'time_steps': 10}\n",
    "\n",
    "geod1_params =[param1,param2,param3]\n",
    "\n",
    "param1 = {'max_iter': 200,'time_steps': 3}\n",
    "param2 = {'max_iter': 200,'time_steps': 4}\n",
    "param3 = {'max_iter': 200,'time_steps': 5}\n",
    "geod2_params =[param1,param2,param3]"
   ]
  },
  {
   "cell_type": "code",
   "execution_count": 4,
   "id": "9d893fa5",
   "metadata": {},
   "outputs": [
    {
     "name": "stdout",
     "output_type": "stream",
     "text": [
      "Calculating Deformation Geodesic\n",
      "(3, 7207, 3)\n",
      "(6, 7207, 3)\n",
      "(10, 7207, 3)\n",
      "Calculating Transfer Geodesic\n",
      "(3, 7207, 3)\n",
      "(4, 7207, 3)\n",
      "(5, 7207, 3)\n",
      "Performing Parallel Transport Using Schild's Ladder\n",
      "Calculating Transfered Deformation\n"
     ]
    }
   ],
   "source": [
    "geod1,geod2,Ngeod1,F= gm.H2ParamDeformationTransfer(VS, VT, VNS, FS,a0,a1,b1,c1,d1,a2, geod1_params, geod2_params)"
   ]
  },
  {
   "cell_type": "code",
   "execution_count": 1,
   "id": "cbf3c379",
   "metadata": {},
   "outputs": [
    {
     "ename": "NameError",
     "evalue": "name 'io' is not defined",
     "output_type": "error",
     "traceback": [
      "\u001b[0;31m---------------------------------------------------------------------------\u001b[0m",
      "\u001b[0;31mNameError\u001b[0m                                 Traceback (most recent call last)",
      "\u001b[0;32m<ipython-input-1-71384c3eed13>\u001b[0m in \u001b[0;36m<module>\u001b[0;34m\u001b[0m\n\u001b[0;32m----> 1\u001b[0;31m \u001b[0mls\u001b[0m \u001b[0;34m=\u001b[0m \u001b[0mio\u001b[0m\u001b[0;34m.\u001b[0m\u001b[0mmakeGeodMeshes\u001b[0m\u001b[0;34m(\u001b[0m\u001b[0mgeod1\u001b[0m\u001b[0;34m,\u001b[0m\u001b[0mF\u001b[0m\u001b[0;34m,\u001b[0m \u001b[0mstepsize\u001b[0m\u001b[0;34m=\u001b[0m\u001b[0;36m2\u001b[0m\u001b[0;34m,\u001b[0m \u001b[0maxis\u001b[0m\u001b[0;34m=\u001b[0m\u001b[0;34m[\u001b[0m\u001b[0;36m0\u001b[0m\u001b[0;34m,\u001b[0m\u001b[0;36m0\u001b[0m\u001b[0;34m,\u001b[0m\u001b[0;36m1\u001b[0m\u001b[0;34m]\u001b[0m\u001b[0;34m,\u001b[0m\u001b[0mangle\u001b[0m\u001b[0;34m=\u001b[0m\u001b[0;34m-\u001b[0m\u001b[0;36m1\u001b[0m\u001b[0;34m*\u001b[0m\u001b[0mnp\u001b[0m\u001b[0;34m.\u001b[0m\u001b[0mpi\u001b[0m\u001b[0;34m/\u001b[0m\u001b[0;36m2\u001b[0m\u001b[0;34m)\u001b[0m\u001b[0;34m\u001b[0m\u001b[0;34m\u001b[0m\u001b[0m\n\u001b[0m\u001b[1;32m      2\u001b[0m \u001b[0mmesh\u001b[0m \u001b[0;34m=\u001b[0m \u001b[0mls\u001b[0m\u001b[0;34m[\u001b[0m\u001b[0;36m0\u001b[0m\u001b[0;34m]\u001b[0m\u001b[0;34m\u001b[0m\u001b[0;34m\u001b[0m\u001b[0m\n\u001b[1;32m      3\u001b[0m \u001b[0;32mfor\u001b[0m \u001b[0mj\u001b[0m \u001b[0;32min\u001b[0m \u001b[0mrange\u001b[0m\u001b[0;34m(\u001b[0m\u001b[0;36m1\u001b[0m\u001b[0;34m,\u001b[0m\u001b[0mlen\u001b[0m\u001b[0;34m(\u001b[0m\u001b[0mls\u001b[0m\u001b[0;34m)\u001b[0m\u001b[0;34m)\u001b[0m\u001b[0;34m:\u001b[0m\u001b[0;34m\u001b[0m\u001b[0;34m\u001b[0m\u001b[0m\n\u001b[1;32m      4\u001b[0m     \u001b[0mmesh\u001b[0m \u001b[0;34m+=\u001b[0m \u001b[0mls\u001b[0m\u001b[0;34m[\u001b[0m\u001b[0mj\u001b[0m\u001b[0;34m]\u001b[0m\u001b[0;34m\u001b[0m\u001b[0;34m\u001b[0m\u001b[0m\n\u001b[1;32m      5\u001b[0m \u001b[0;34m[\u001b[0m\u001b[0mV\u001b[0m\u001b[0;34m,\u001b[0m\u001b[0mF\u001b[0m\u001b[0;34m,\u001b[0m\u001b[0mcolor\u001b[0m\u001b[0;34m]\u001b[0m\u001b[0;34m=\u001b[0m\u001b[0mio\u001b[0m\u001b[0;34m.\u001b[0m\u001b[0mgetDataFromMesh\u001b[0m\u001b[0;34m(\u001b[0m\u001b[0mmesh\u001b[0m\u001b[0;34m)\u001b[0m\u001b[0;34m\u001b[0m\u001b[0;34m\u001b[0m\u001b[0m\n",
      "\u001b[0;31mNameError\u001b[0m: name 'io' is not defined"
     ]
    }
   ],
   "source": [
    "ls = io.makeGeodMeshes(geod1,F, stepsize=2, axis=[0,0,1],angle=-1*np.pi/2)\n",
    "mesh = ls[0]    \n",
    "for j in range(1,len(ls)):\n",
    "    mesh += ls[j]\n",
    "[V,F,color]=io.getDataFromMesh(mesh)\n",
    "fig = go.Figure(\n",
    "    data=[\n",
    "        go.Mesh3d(\n",
    "            x=V[:,0],\n",
    "            y=V[:,1],\n",
    "            z=V[:,2],\n",
    "            i=F[:,0],\n",
    "            j=F[:,1],\n",
    "            k=F[:,2],\n",
    "            opacity=1.0)\n",
    "    ],\n",
    "    layout=dict(\n",
    "        scene=dict(\n",
    "            xaxis=dict(visible=False),\n",
    "            yaxis=dict(visible=False),\n",
    "            zaxis=dict(visible=False),\n",
    "            aspectmode='data'\n",
    "        )\n",
    "    )\n",
    ")\n",
    "fig.show()\n",
    "io.plotGeodesic(geod1,F, stepsize=2, axis=[0,0,1],angle=-1*np.pi/2)\n",
    "\n",
    "ls = io.makeGeodMeshes(Ngeod1,F, stepsize=2 ,axis=[0,0,1],angle=-1*np.pi/2)\n",
    "mesh = ls[0]    \n",
    "for j in range(1,len(ls)):\n",
    "    mesh += ls[j]\n",
    "[V,F,color]=io.getDataFromMesh(mesh)\n",
    "fig = go.Figure(\n",
    "    data=[\n",
    "        go.Mesh3d(\n",
    "            x=V[:,0],\n",
    "            y=V[:,1],\n",
    "            z=V[:,2],\n",
    "            i=F[:,0],\n",
    "            j=F[:,1],\n",
    "            k=F[:,2],\n",
    "            opacity=1.0)\n",
    "    ],\n",
    "    layout=dict(\n",
    "        scene=dict(\n",
    "            xaxis=dict(visible=False),\n",
    "            yaxis=dict(visible=False),\n",
    "            zaxis=dict(visible=False),\n",
    "            aspectmode='data'\n",
    "        )\n",
    "    )\n",
    ")\n",
    "fig.show()\n",
    "io.plotGeodesic(Ngeod1,F, stepsize=2 ,axis=[0,0,1],angle=-1*np.pi/2)"
   ]
  },
  {
   "cell_type": "code",
   "execution_count": null,
   "id": "2f1b29b3",
   "metadata": {},
   "outputs": [],
   "source": []
  }
 ],
 "metadata": {
  "kernelspec": {
   "display_name": "Python 3",
   "language": "python",
   "name": "python3"
  },
  "language_info": {
   "codemirror_mode": {
    "name": "ipython",
    "version": 3
   },
   "file_extension": ".py",
   "mimetype": "text/x-python",
   "name": "python",
   "nbconvert_exporter": "python",
   "pygments_lexer": "ipython3",
   "version": "3.7.10"
  }
 },
 "nbformat": 4,
 "nbformat_minor": 5
}
