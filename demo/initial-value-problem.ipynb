{
 "cells": [
  {
   "cell_type": "code",
   "execution_count": 1,
   "id": "0d562cbc",
   "metadata": {},
   "outputs": [
    {
     "name": "stderr",
     "output_type": "stream",
     "text": [
      "/home/emanuel/anaconda3/envs/varidist/lib/python3.7/site-packages/pykeops/torch/kernel_product/__init__.py:6: DeprecationWarning: [pyKeOps]: the kernel_product syntax is deprecated. Please consider using the LazyTensor helper instead.\n",
      "  DeprecationWarning,\n"
     ]
    }
   ],
   "source": [
    "import sys\n",
    "sys.path.append('..')\n",
    "import SRNF_match\n",
    "import H2_param as gm\n",
    "import H2_ivp as gp\n",
    "import utils.input_output as io"
   ]
  },
  {
   "cell_type": "code",
   "execution_count": 2,
   "id": "1af15924",
   "metadata": {},
   "outputs": [
    {
     "name": "stdout",
     "output_type": "stream",
     "text": [
      "(14410, 3)\n",
      "(14410, 3)\n"
     ]
    },
    {
     "name": "stderr",
     "output_type": "stream",
     "text": [
      "/home/emanuel/anaconda3/envs/varidist/lib/python3.7/site-packages/ipykernel/ipkernel.py:287: DeprecationWarning: `should_run_async` will not call `transform_cell` automatically in the future. Please pass the result to `transformed_cell` argument and any exception that happen during thetransform in `preprocessing_exc_tuple` in IPython 7.17 and above.\n",
      "  and should_run_async(code)\n"
     ]
    }
   ],
   "source": [
    "[VS,FS,FunS] = io.loadData(\"TestData/cats_lion/catA.ply\") \n",
    "VS=2*VS\n",
    "source = [VS,FS]\n",
    "print(FS.shape)\n",
    "\n",
    "[VT,FT,FunT] = io.loadData(\"TestData/cats_lion/catB.ply\")  \n",
    "VT=2*VT\n",
    "target= [VT,FT]\n",
    "print(FT.shape)"
   ]
  },
  {
   "cell_type": "code",
   "execution_count": 3,
   "id": "ee78dfc1",
   "metadata": {},
   "outputs": [],
   "source": [
    "a0=1\n",
    "a1=10\n",
    "b1=10\n",
    "c1=.01\n",
    "d1=0\n",
    "a2=1\n",
    "param1 = {'max_iter': 200,'time_steps': 3}\n",
    "param2 = {'max_iter': 200,'time_steps': 4}\n",
    "param3 = {'max_iter': 200,'time_steps': 5}\n",
    "\n",
    "paramlist =[param1,param2,param3]"
   ]
  },
  {
   "cell_type": "code",
   "execution_count": 4,
   "id": "ed16e85b",
   "metadata": {},
   "outputs": [
    {
     "name": "stdout",
     "output_type": "stream",
     "text": [
      "(3, 7207, 3)\n",
      "(4, 7207, 3)\n",
      "(5, 7207, 3)\n"
     ]
    }
   ],
   "source": [
    "geod1,F0=gm.H2Parameterized(source,target,a0,a1,b1,c1,d1,a2,paramlist)"
   ]
  },
  {
   "cell_type": "code",
   "execution_count": 5,
   "id": "d6630a94",
   "metadata": {},
   "outputs": [],
   "source": [
    "Ngeod1,F=gp.H2InitialValueProblem(VS,5*(geod1[1]-geod1[0]),5,a0,a1,b1,c1,d1,a2,F0)"
   ]
  },
  {
   "cell_type": "code",
   "execution_count": 6,
   "id": "cbf3c379",
   "metadata": {},
   "outputs": [],
   "source": [
    "io.plotGeodesic(geod1,F0, stepsize=2, file_name='results/param_cats_bvp',axis=[0,0,1],angle=-1*np.pi/2)\n",
    "io.plotGeodesic(Ngeod1,F0, stepsize=2,  file_name='results/param_cats_ivp', axis=[0,0,1],angle=-1*np.pi/2)"
   ]
  }
 ],
 "metadata": {
  "kernelspec": {
   "display_name": "Python 3",
   "language": "python",
   "name": "python3"
  },
  "language_info": {
   "codemirror_mode": {
    "name": "ipython",
    "version": 3
   },
   "file_extension": ".py",
   "mimetype": "text/x-python",
   "name": "python",
   "nbconvert_exporter": "python",
   "pygments_lexer": "ipython3",
   "version": "3.7.10"
  }
 },
 "nbformat": 4,
 "nbformat_minor": 5
}
